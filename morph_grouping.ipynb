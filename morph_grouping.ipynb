{
  "nbformat": 4,
  "nbformat_minor": 0,
  "metadata": {
    "colab": {
      "name": "morph_grouping.ipynb",
      "provenance": [],
      "collapsed_sections": [],
      "authorship_tag": "ABX9TyNFsnNHWyN2yPY88PvucCYT"
    },
    "kernelspec": {
      "name": "python3",
      "display_name": "Python 3"
    },
    "language_info": {
      "name": "python"
    }
  },
  "cells": [
    {
      "cell_type": "markdown",
      "source": [
        "Есть группа словоформ, которая включает в себя слова с разным смыслом. Напишите код на python, который поможет разложить эти словоформы на смысловые группы. Объясните, почему эти слова оказались в одной группе"
      ],
      "metadata": {
        "id": "ZYXFsOBvKsb1"
      }
    },
    {
      "cell_type": "code",
      "source": [
        "!pip install -q pymorphy2"
      ],
      "metadata": {
        "colab": {
          "base_uri": "https://localhost:8080/"
        },
        "id": "5-30uXejkLHb",
        "outputId": "b93fc10e-0a5e-4e69-b49c-9952132b201d"
      },
      "execution_count": null,
      "outputs": [
        {
          "output_type": "stream",
          "name": "stdout",
          "text": [
            "\u001b[K     |████████████████████████████████| 55 kB 2.1 MB/s \n",
            "\u001b[K     |████████████████████████████████| 8.2 MB 10.7 MB/s \n",
            "\u001b[?25h"
          ]
        }
      ]
    },
    {
      "cell_type": "code",
      "execution_count": null,
      "metadata": {
        "colab": {
          "base_uri": "https://localhost:8080/"
        },
        "id": "_Bp1KINHj6ra",
        "outputId": "b7059632-d1e2-4fe5-a5b3-b14993b7edba"
      },
      "outputs": [
        {
          "output_type": "stream",
          "name": "stderr",
          "text": [
            "[nltk_data] Downloading package punkt to /root/nltk_data...\n",
            "[nltk_data]   Unzipping tokenizers/punkt.zip.\n"
          ]
        }
      ],
      "source": [
        "import pymorphy2, pymorphy2_dicts_ru\n",
        "import nltk\n",
        "nltk.download('punkt')\n",
        "from nltk.tokenize import word_tokenize, sent_tokenize\n",
        "import pandas as pd"
      ]
    },
    {
      "cell_type": "code",
      "source": [
        "words = 'роивший,роите,роил,роила,роись,рылами,рылах,рыле,роилась,роившись,роившийся,рылом,рылу,роивши,рыв,ройте,роят,роенные,роили,рывши,роило,роим,роющего,роимый,роящий,роющее,роенный,роющие,роющий,роющим,роющих,рыт,рытым,рытая,рыто,рытого,рытое,рытому,рыты,рытые,роенным,роит,роились,роилось,роился,рытый,рылось,роен,рыло,роить,роенными,роена,роенная,роенного,роенное,роющийся,роетесь,роется,роешься,рывший,рыл,роев,роем,рои,рою,роя,роям,роями,роях,рое,рылся,роют,рыть,рыться,роемый,роет,ройся,ройтесь,роюсь,роются,роющихся,рытых,роясь,рывшийся,рывшись,рыла,рылась,рыли,рылись,роемся,рытыми,роенной,роенных,роено,роимся,роитесь,роится,роете,роишь,роиться,роишься,роятся,роящиеся,роящийся,роящихся,роив,роешь,роены,рылам,рой'"
      ],
      "metadata": {
        "id": "ygvRyWg7j8oo"
      },
      "execution_count": null,
      "outputs": []
    },
    {
      "cell_type": "markdown",
      "source": [
        "Токенизация:"
      ],
      "metadata": {
        "id": "GWK97TUdjOIQ"
      }
    },
    {
      "cell_type": "code",
      "source": [
        "words = words.replace(',', ' ')"
      ],
      "metadata": {
        "id": "Z0q5JZQ8kPhT"
      },
      "execution_count": null,
      "outputs": []
    },
    {
      "cell_type": "code",
      "source": [
        "tokens = word_tokenize(words)"
      ],
      "metadata": {
        "id": "S_RiKieFkR4b"
      },
      "execution_count": null,
      "outputs": []
    },
    {
      "cell_type": "code",
      "source": [
        "morph = pymorphy2.MorphAnalyzer()"
      ],
      "metadata": {
        "id": "2uRqiB4ZkWYa"
      },
      "execution_count": null,
      "outputs": []
    },
    {
      "cell_type": "markdown",
      "source": [
        "Лемматизация и группировка\n",
        "\n",
        "Вариант 1, где учитываются все возможные начальные формы, -- более точный, но одно слово может относиться к нескольким группам."
      ],
      "metadata": {
        "id": "zFNqiq-AjXeP"
      }
    },
    {
      "cell_type": "code",
      "source": [
        "inf_mask = []\n",
        "for word in tokens:\n",
        "  p = morph.normal_forms(word)\n",
        "  inf_mask.append(p)"
      ],
      "metadata": {
        "id": "B8dwyBsRk15x"
      },
      "execution_count": null,
      "outputs": []
    },
    {
      "cell_type": "code",
      "source": [
        "df1 = pd.DataFrame(\n",
        "    {'tokens': tokens,\n",
        "     'inf_mask': inf_mask,\n",
        "    })\n",
        "df1"
      ],
      "metadata": {
        "colab": {
          "base_uri": "https://localhost:8080/",
          "height": 423
        },
        "id": "YKo_fOXxTmnE",
        "outputId": "26a9f2d4-4023-4d86-a921-3b26cd0fb12b"
      },
      "execution_count": null,
      "outputs": [
        {
          "output_type": "execute_result",
          "data": {
            "text/plain": [
              "      tokens     inf_mask\n",
              "0    роивший      [роить]\n",
              "1      роите      [роить]\n",
              "2       роил      [роить]\n",
              "3      роила      [роить]\n",
              "4      роись    [роиться]\n",
              "..       ...          ...\n",
              "105     роив      [роить]\n",
              "106    роешь       [рыть]\n",
              "107    роены      [роить]\n",
              "108    рылам       [рыло]\n",
              "109      рой  [рой, рыть]\n",
              "\n",
              "[110 rows x 2 columns]"
            ],
            "text/html": [
              "\n",
              "  <div id=\"df-589a45c1-9c03-48eb-87ae-08fafe1fc786\">\n",
              "    <div class=\"colab-df-container\">\n",
              "      <div>\n",
              "<style scoped>\n",
              "    .dataframe tbody tr th:only-of-type {\n",
              "        vertical-align: middle;\n",
              "    }\n",
              "\n",
              "    .dataframe tbody tr th {\n",
              "        vertical-align: top;\n",
              "    }\n",
              "\n",
              "    .dataframe thead th {\n",
              "        text-align: right;\n",
              "    }\n",
              "</style>\n",
              "<table border=\"1\" class=\"dataframe\">\n",
              "  <thead>\n",
              "    <tr style=\"text-align: right;\">\n",
              "      <th></th>\n",
              "      <th>tokens</th>\n",
              "      <th>inf_mask</th>\n",
              "    </tr>\n",
              "  </thead>\n",
              "  <tbody>\n",
              "    <tr>\n",
              "      <th>0</th>\n",
              "      <td>роивший</td>\n",
              "      <td>[роить]</td>\n",
              "    </tr>\n",
              "    <tr>\n",
              "      <th>1</th>\n",
              "      <td>роите</td>\n",
              "      <td>[роить]</td>\n",
              "    </tr>\n",
              "    <tr>\n",
              "      <th>2</th>\n",
              "      <td>роил</td>\n",
              "      <td>[роить]</td>\n",
              "    </tr>\n",
              "    <tr>\n",
              "      <th>3</th>\n",
              "      <td>роила</td>\n",
              "      <td>[роить]</td>\n",
              "    </tr>\n",
              "    <tr>\n",
              "      <th>4</th>\n",
              "      <td>роись</td>\n",
              "      <td>[роиться]</td>\n",
              "    </tr>\n",
              "    <tr>\n",
              "      <th>...</th>\n",
              "      <td>...</td>\n",
              "      <td>...</td>\n",
              "    </tr>\n",
              "    <tr>\n",
              "      <th>105</th>\n",
              "      <td>роив</td>\n",
              "      <td>[роить]</td>\n",
              "    </tr>\n",
              "    <tr>\n",
              "      <th>106</th>\n",
              "      <td>роешь</td>\n",
              "      <td>[рыть]</td>\n",
              "    </tr>\n",
              "    <tr>\n",
              "      <th>107</th>\n",
              "      <td>роены</td>\n",
              "      <td>[роить]</td>\n",
              "    </tr>\n",
              "    <tr>\n",
              "      <th>108</th>\n",
              "      <td>рылам</td>\n",
              "      <td>[рыло]</td>\n",
              "    </tr>\n",
              "    <tr>\n",
              "      <th>109</th>\n",
              "      <td>рой</td>\n",
              "      <td>[рой, рыть]</td>\n",
              "    </tr>\n",
              "  </tbody>\n",
              "</table>\n",
              "<p>110 rows × 2 columns</p>\n",
              "</div>\n",
              "      <button class=\"colab-df-convert\" onclick=\"convertToInteractive('df-589a45c1-9c03-48eb-87ae-08fafe1fc786')\"\n",
              "              title=\"Convert this dataframe to an interactive table.\"\n",
              "              style=\"display:none;\">\n",
              "        \n",
              "  <svg xmlns=\"http://www.w3.org/2000/svg\" height=\"24px\"viewBox=\"0 0 24 24\"\n",
              "       width=\"24px\">\n",
              "    <path d=\"M0 0h24v24H0V0z\" fill=\"none\"/>\n",
              "    <path d=\"M18.56 5.44l.94 2.06.94-2.06 2.06-.94-2.06-.94-.94-2.06-.94 2.06-2.06.94zm-11 1L8.5 8.5l.94-2.06 2.06-.94-2.06-.94L8.5 2.5l-.94 2.06-2.06.94zm10 10l.94 2.06.94-2.06 2.06-.94-2.06-.94-.94-2.06-.94 2.06-2.06.94z\"/><path d=\"M17.41 7.96l-1.37-1.37c-.4-.4-.92-.59-1.43-.59-.52 0-1.04.2-1.43.59L10.3 9.45l-7.72 7.72c-.78.78-.78 2.05 0 2.83L4 21.41c.39.39.9.59 1.41.59.51 0 1.02-.2 1.41-.59l7.78-7.78 2.81-2.81c.8-.78.8-2.07 0-2.86zM5.41 20L4 18.59l7.72-7.72 1.47 1.35L5.41 20z\"/>\n",
              "  </svg>\n",
              "      </button>\n",
              "      \n",
              "  <style>\n",
              "    .colab-df-container {\n",
              "      display:flex;\n",
              "      flex-wrap:wrap;\n",
              "      gap: 12px;\n",
              "    }\n",
              "\n",
              "    .colab-df-convert {\n",
              "      background-color: #E8F0FE;\n",
              "      border: none;\n",
              "      border-radius: 50%;\n",
              "      cursor: pointer;\n",
              "      display: none;\n",
              "      fill: #1967D2;\n",
              "      height: 32px;\n",
              "      padding: 0 0 0 0;\n",
              "      width: 32px;\n",
              "    }\n",
              "\n",
              "    .colab-df-convert:hover {\n",
              "      background-color: #E2EBFA;\n",
              "      box-shadow: 0px 1px 2px rgba(60, 64, 67, 0.3), 0px 1px 3px 1px rgba(60, 64, 67, 0.15);\n",
              "      fill: #174EA6;\n",
              "    }\n",
              "\n",
              "    [theme=dark] .colab-df-convert {\n",
              "      background-color: #3B4455;\n",
              "      fill: #D2E3FC;\n",
              "    }\n",
              "\n",
              "    [theme=dark] .colab-df-convert:hover {\n",
              "      background-color: #434B5C;\n",
              "      box-shadow: 0px 1px 3px 1px rgba(0, 0, 0, 0.15);\n",
              "      filter: drop-shadow(0px 1px 2px rgba(0, 0, 0, 0.3));\n",
              "      fill: #FFFFFF;\n",
              "    }\n",
              "  </style>\n",
              "\n",
              "      <script>\n",
              "        const buttonEl =\n",
              "          document.querySelector('#df-589a45c1-9c03-48eb-87ae-08fafe1fc786 button.colab-df-convert');\n",
              "        buttonEl.style.display =\n",
              "          google.colab.kernel.accessAllowed ? 'block' : 'none';\n",
              "\n",
              "        async function convertToInteractive(key) {\n",
              "          const element = document.querySelector('#df-589a45c1-9c03-48eb-87ae-08fafe1fc786');\n",
              "          const dataTable =\n",
              "            await google.colab.kernel.invokeFunction('convertToInteractive',\n",
              "                                                     [key], {});\n",
              "          if (!dataTable) return;\n",
              "\n",
              "          const docLinkHtml = 'Like what you see? Visit the ' +\n",
              "            '<a target=\"_blank\" href=https://colab.research.google.com/notebooks/data_table.ipynb>data table notebook</a>'\n",
              "            + ' to learn more about interactive tables.';\n",
              "          element.innerHTML = '';\n",
              "          dataTable['output_type'] = 'display_data';\n",
              "          await google.colab.output.renderOutput(dataTable, element);\n",
              "          const docLink = document.createElement('div');\n",
              "          docLink.innerHTML = docLinkHtml;\n",
              "          element.appendChild(docLink);\n",
              "        }\n",
              "      </script>\n",
              "    </div>\n",
              "  </div>\n",
              "  "
            ]
          },
          "metadata": {},
          "execution_count": 8
        }
      ]
    },
    {
      "cell_type": "code",
      "source": [
        "df1 = df1.explode('inf_mask')"
      ],
      "metadata": {
        "id": "7sky1BQGgfIC"
      },
      "execution_count": null,
      "outputs": []
    },
    {
      "cell_type": "code",
      "source": [
        "morph_groups = df1.groupby('inf_mask')['tokens'].apply(list)\n",
        "morph_groups"
      ],
      "metadata": {
        "colab": {
          "base_uri": "https://localhost:8080/"
        },
        "id": "tLBY7p03gUrJ",
        "outputId": "5cd56846-5eba-48f8-ba25-1b18a11bb778"
      },
      "execution_count": null,
      "outputs": [
        {
          "output_type": "execute_result",
          "data": {
            "text/plain": [
              "inf_mask\n",
              "роить      [роивший, роите, роил, роила, роивши, роят, ро...\n",
              "роиться    [роись, роилась, роившись, роившийся, роились,...\n",
              "рой        [роев, роем, рои, рою, роя, роям, роями, роях,...\n",
              "ройный                                                [роен]\n",
              "рыло       [рылами, рылах, рыле, рылом, рылу, рыло, рыл, ...\n",
              "рытый      [рыт, рытым, рытая, рыто, рытого, рытое, рытом...\n",
              "рыть       [рыв, ройте, рывши, роющего, роющее, роющие, р...\n",
              "рыться     [рылось, роющийся, роетесь, роется, роешься, р...\n",
              "Name: tokens, dtype: object"
            ]
          },
          "metadata": {},
          "execution_count": 10
        }
      ]
    },
    {
      "cell_type": "code",
      "source": [
        "morph_groups.keys()"
      ],
      "metadata": {
        "colab": {
          "base_uri": "https://localhost:8080/"
        },
        "id": "EZlR6gXOh2ao",
        "outputId": "a8a5808b-4fb5-412a-aad3-f80cf4603699"
      },
      "execution_count": null,
      "outputs": [
        {
          "output_type": "execute_result",
          "data": {
            "text/plain": [
              "Index(['роить', 'роиться', 'рой', 'ройный', 'рыло', 'рытый', 'рыть', 'рыться'], dtype='object', name='inf_mask')"
            ]
          },
          "metadata": {},
          "execution_count": 11
        }
      ]
    },
    {
      "cell_type": "code",
      "source": [
        "'роюсь' in morph_groups['рыться'], 'роюсь' in morph_groups['роиться']"
      ],
      "metadata": {
        "colab": {
          "base_uri": "https://localhost:8080/"
        },
        "id": "SgsVGzBjlbgY",
        "outputId": "d6d6f9d2-79f6-406b-e5db-4c9a16640aa0"
      },
      "execution_count": null,
      "outputs": [
        {
          "output_type": "execute_result",
          "data": {
            "text/plain": [
              "(True, True)"
            ]
          },
          "metadata": {},
          "execution_count": 12
        }
      ]
    },
    {
      "cell_type": "markdown",
      "source": [
        "Вариант 2, где учитывается только наиболее вероятная начальная форма, -- менее точный, но более однозначный."
      ],
      "metadata": {
        "id": "C-9yKll9kkDh"
      }
    },
    {
      "cell_type": "code",
      "source": [
        "inf_mask1 = []\n",
        "for word in tokens:\n",
        "  p = morph.normal_forms(word)[0]\n",
        "  inf_mask1.append(p)"
      ],
      "metadata": {
        "id": "LJw3JN5NkcCv"
      },
      "execution_count": null,
      "outputs": []
    },
    {
      "cell_type": "code",
      "source": [
        "df = pd.DataFrame(\n",
        "    {'tokens': tokens,\n",
        "     'inf_mask': inf_mask1,\n",
        "    })\n",
        "df"
      ],
      "metadata": {
        "colab": {
          "base_uri": "https://localhost:8080/",
          "height": 423
        },
        "id": "8_SuvOcAk23w",
        "outputId": "8ddf2ffc-a10a-4fb8-fbfe-55570cd18b94"
      },
      "execution_count": null,
      "outputs": [
        {
          "output_type": "execute_result",
          "data": {
            "text/plain": [
              "      tokens inf_mask\n",
              "0    роивший    роить\n",
              "1      роите    роить\n",
              "2       роил    роить\n",
              "3      роила    роить\n",
              "4      роись  роиться\n",
              "..       ...      ...\n",
              "105     роив    роить\n",
              "106    роешь     рыть\n",
              "107    роены    роить\n",
              "108    рылам     рыло\n",
              "109      рой      рой\n",
              "\n",
              "[110 rows x 2 columns]"
            ],
            "text/html": [
              "\n",
              "  <div id=\"df-ec49338b-5d76-4bbf-8794-9e34db7a5bdd\">\n",
              "    <div class=\"colab-df-container\">\n",
              "      <div>\n",
              "<style scoped>\n",
              "    .dataframe tbody tr th:only-of-type {\n",
              "        vertical-align: middle;\n",
              "    }\n",
              "\n",
              "    .dataframe tbody tr th {\n",
              "        vertical-align: top;\n",
              "    }\n",
              "\n",
              "    .dataframe thead th {\n",
              "        text-align: right;\n",
              "    }\n",
              "</style>\n",
              "<table border=\"1\" class=\"dataframe\">\n",
              "  <thead>\n",
              "    <tr style=\"text-align: right;\">\n",
              "      <th></th>\n",
              "      <th>tokens</th>\n",
              "      <th>inf_mask</th>\n",
              "    </tr>\n",
              "  </thead>\n",
              "  <tbody>\n",
              "    <tr>\n",
              "      <th>0</th>\n",
              "      <td>роивший</td>\n",
              "      <td>роить</td>\n",
              "    </tr>\n",
              "    <tr>\n",
              "      <th>1</th>\n",
              "      <td>роите</td>\n",
              "      <td>роить</td>\n",
              "    </tr>\n",
              "    <tr>\n",
              "      <th>2</th>\n",
              "      <td>роил</td>\n",
              "      <td>роить</td>\n",
              "    </tr>\n",
              "    <tr>\n",
              "      <th>3</th>\n",
              "      <td>роила</td>\n",
              "      <td>роить</td>\n",
              "    </tr>\n",
              "    <tr>\n",
              "      <th>4</th>\n",
              "      <td>роись</td>\n",
              "      <td>роиться</td>\n",
              "    </tr>\n",
              "    <tr>\n",
              "      <th>...</th>\n",
              "      <td>...</td>\n",
              "      <td>...</td>\n",
              "    </tr>\n",
              "    <tr>\n",
              "      <th>105</th>\n",
              "      <td>роив</td>\n",
              "      <td>роить</td>\n",
              "    </tr>\n",
              "    <tr>\n",
              "      <th>106</th>\n",
              "      <td>роешь</td>\n",
              "      <td>рыть</td>\n",
              "    </tr>\n",
              "    <tr>\n",
              "      <th>107</th>\n",
              "      <td>роены</td>\n",
              "      <td>роить</td>\n",
              "    </tr>\n",
              "    <tr>\n",
              "      <th>108</th>\n",
              "      <td>рылам</td>\n",
              "      <td>рыло</td>\n",
              "    </tr>\n",
              "    <tr>\n",
              "      <th>109</th>\n",
              "      <td>рой</td>\n",
              "      <td>рой</td>\n",
              "    </tr>\n",
              "  </tbody>\n",
              "</table>\n",
              "<p>110 rows × 2 columns</p>\n",
              "</div>\n",
              "      <button class=\"colab-df-convert\" onclick=\"convertToInteractive('df-ec49338b-5d76-4bbf-8794-9e34db7a5bdd')\"\n",
              "              title=\"Convert this dataframe to an interactive table.\"\n",
              "              style=\"display:none;\">\n",
              "        \n",
              "  <svg xmlns=\"http://www.w3.org/2000/svg\" height=\"24px\"viewBox=\"0 0 24 24\"\n",
              "       width=\"24px\">\n",
              "    <path d=\"M0 0h24v24H0V0z\" fill=\"none\"/>\n",
              "    <path d=\"M18.56 5.44l.94 2.06.94-2.06 2.06-.94-2.06-.94-.94-2.06-.94 2.06-2.06.94zm-11 1L8.5 8.5l.94-2.06 2.06-.94-2.06-.94L8.5 2.5l-.94 2.06-2.06.94zm10 10l.94 2.06.94-2.06 2.06-.94-2.06-.94-.94-2.06-.94 2.06-2.06.94z\"/><path d=\"M17.41 7.96l-1.37-1.37c-.4-.4-.92-.59-1.43-.59-.52 0-1.04.2-1.43.59L10.3 9.45l-7.72 7.72c-.78.78-.78 2.05 0 2.83L4 21.41c.39.39.9.59 1.41.59.51 0 1.02-.2 1.41-.59l7.78-7.78 2.81-2.81c.8-.78.8-2.07 0-2.86zM5.41 20L4 18.59l7.72-7.72 1.47 1.35L5.41 20z\"/>\n",
              "  </svg>\n",
              "      </button>\n",
              "      \n",
              "  <style>\n",
              "    .colab-df-container {\n",
              "      display:flex;\n",
              "      flex-wrap:wrap;\n",
              "      gap: 12px;\n",
              "    }\n",
              "\n",
              "    .colab-df-convert {\n",
              "      background-color: #E8F0FE;\n",
              "      border: none;\n",
              "      border-radius: 50%;\n",
              "      cursor: pointer;\n",
              "      display: none;\n",
              "      fill: #1967D2;\n",
              "      height: 32px;\n",
              "      padding: 0 0 0 0;\n",
              "      width: 32px;\n",
              "    }\n",
              "\n",
              "    .colab-df-convert:hover {\n",
              "      background-color: #E2EBFA;\n",
              "      box-shadow: 0px 1px 2px rgba(60, 64, 67, 0.3), 0px 1px 3px 1px rgba(60, 64, 67, 0.15);\n",
              "      fill: #174EA6;\n",
              "    }\n",
              "\n",
              "    [theme=dark] .colab-df-convert {\n",
              "      background-color: #3B4455;\n",
              "      fill: #D2E3FC;\n",
              "    }\n",
              "\n",
              "    [theme=dark] .colab-df-convert:hover {\n",
              "      background-color: #434B5C;\n",
              "      box-shadow: 0px 1px 3px 1px rgba(0, 0, 0, 0.15);\n",
              "      filter: drop-shadow(0px 1px 2px rgba(0, 0, 0, 0.3));\n",
              "      fill: #FFFFFF;\n",
              "    }\n",
              "  </style>\n",
              "\n",
              "      <script>\n",
              "        const buttonEl =\n",
              "          document.querySelector('#df-ec49338b-5d76-4bbf-8794-9e34db7a5bdd button.colab-df-convert');\n",
              "        buttonEl.style.display =\n",
              "          google.colab.kernel.accessAllowed ? 'block' : 'none';\n",
              "\n",
              "        async function convertToInteractive(key) {\n",
              "          const element = document.querySelector('#df-ec49338b-5d76-4bbf-8794-9e34db7a5bdd');\n",
              "          const dataTable =\n",
              "            await google.colab.kernel.invokeFunction('convertToInteractive',\n",
              "                                                     [key], {});\n",
              "          if (!dataTable) return;\n",
              "\n",
              "          const docLinkHtml = 'Like what you see? Visit the ' +\n",
              "            '<a target=\"_blank\" href=https://colab.research.google.com/notebooks/data_table.ipynb>data table notebook</a>'\n",
              "            + ' to learn more about interactive tables.';\n",
              "          element.innerHTML = '';\n",
              "          dataTable['output_type'] = 'display_data';\n",
              "          await google.colab.output.renderOutput(dataTable, element);\n",
              "          const docLink = document.createElement('div');\n",
              "          docLink.innerHTML = docLinkHtml;\n",
              "          element.appendChild(docLink);\n",
              "        }\n",
              "      </script>\n",
              "    </div>\n",
              "  </div>\n",
              "  "
            ]
          },
          "metadata": {},
          "execution_count": 85
        }
      ]
    },
    {
      "cell_type": "code",
      "source": [
        "morpho_groups = df.groupby('inf_mask')['tokens'].apply(list)\n",
        "morpho_groups"
      ],
      "metadata": {
        "colab": {
          "base_uri": "https://localhost:8080/"
        },
        "id": "67IQN9vErR6s",
        "outputId": "c52847c2-4d47-415a-fdc7-0822a975cc23"
      },
      "execution_count": null,
      "outputs": [
        {
          "output_type": "execute_result",
          "data": {
            "text/plain": [
              "inf_mask\n",
              "роить      [роивший, роите, роил, роила, роивши, роят, ро...\n",
              "роиться    [роись, роилась, роившись, роившийся, роились,...\n",
              "рой        [роев, роем, рои, рою, роя, роям, роями, роях,...\n",
              "ройный                                                [роен]\n",
              "рыло       [рылами, рылах, рыле, рылом, рылу, рыло, рыл, ...\n",
              "рытый      [рыт, рытым, рытая, рыто, рытого, рытое, рытом...\n",
              "рыть       [рыв, ройте, рывши, роющего, роющее, роющие, р...\n",
              "рыться     [рылось, роющийся, роетесь, роется, роешься, р...\n",
              "Name: tokens, dtype: object"
            ]
          },
          "metadata": {},
          "execution_count": 110
        }
      ]
    },
    {
      "cell_type": "code",
      "source": [
        "morpho_groups.keys()"
      ],
      "metadata": {
        "colab": {
          "base_uri": "https://localhost:8080/"
        },
        "id": "tLJGg4LWs1Ip",
        "outputId": "f8fe8627-db42-406c-d441-6dc2986c65c5"
      },
      "execution_count": null,
      "outputs": [
        {
          "output_type": "execute_result",
          "data": {
            "text/plain": [
              "Index(['роить', 'роиться', 'рой', 'ройный', 'рыло', 'рытый', 'рыть', 'рыться'], dtype='object', name='inf_mask')"
            ]
          },
          "metadata": {},
          "execution_count": 90
        }
      ]
    },
    {
      "cell_type": "code",
      "source": [
        "'роюсь' in morpho_groups['рыться'], 'роюсь' in morpho_groups['роиться']"
      ],
      "metadata": {
        "id": "IB9LlrfLugv0",
        "colab": {
          "base_uri": "https://localhost:8080/"
        },
        "outputId": "c259935e-ab34-4243-b89d-08ccb338649c"
      },
      "execution_count": null,
      "outputs": [
        {
          "output_type": "execute_result",
          "data": {
            "text/plain": [
              "(False, True)"
            ]
          },
          "metadata": {},
          "execution_count": 91
        }
      ]
    },
    {
      "cell_type": "markdown",
      "source": [
        "Можно немного сократить количество групп с помощью стемминга нормализованных форм слов (используются данные из варианта 1)."
      ],
      "metadata": {
        "id": "EENecRGIw3Dr"
      }
    },
    {
      "cell_type": "code",
      "source": [
        "from nltk.stem import SnowballStemmer"
      ],
      "metadata": {
        "id": "oaYpJRe9iR2D"
      },
      "execution_count": null,
      "outputs": []
    },
    {
      "cell_type": "code",
      "source": [
        "stem_list = morph_groups.keys()\n",
        "ss = SnowballStemmer(language='russian')\n",
        "stems = list(map(ss.stem, stem_list))"
      ],
      "metadata": {
        "id": "zZ8UWKtpmDNg"
      },
      "execution_count": null,
      "outputs": []
    },
    {
      "cell_type": "code",
      "source": [
        "morph_groups1 = morph_groups.to_frame()\n",
        "morph_groups1.reset_index(inplace=True)"
      ],
      "metadata": {
        "id": "_QLQsrklmHC7"
      },
      "execution_count": null,
      "outputs": []
    },
    {
      "cell_type": "code",
      "source": [
        "morph_groups1.insert(loc=0, column='stems', value=stems)"
      ],
      "metadata": {
        "id": "KObGOfMurI-x"
      },
      "execution_count": null,
      "outputs": []
    },
    {
      "cell_type": "code",
      "source": [
        "morph_groups1"
      ],
      "metadata": {
        "colab": {
          "base_uri": "https://localhost:8080/",
          "height": 300
        },
        "id": "cxR7taWEr9l-",
        "outputId": "37b9a0fe-6ab0-4aff-a7a0-fb5ab53681b5"
      },
      "execution_count": null,
      "outputs": [
        {
          "output_type": "execute_result",
          "data": {
            "text/plain": [
              "  stems inf_mask                                             tokens\n",
              "0    ро    роить  [роивший, роите, роил, роила, роивши, роят, ро...\n",
              "1    ро  роиться  [роись, роилась, роившись, роившийся, роились,...\n",
              "2    ро      рой  [роев, роем, рои, рою, роя, роям, роями, роях,...\n",
              "3  ройн   ройный                                             [роен]\n",
              "4   рыл     рыло  [рылами, рылах, рыле, рылом, рылу, рыло, рыл, ...\n",
              "5   рыт    рытый  [рыт, рытым, рытая, рыто, рытого, рытое, рытом...\n",
              "6   рыт     рыть  [рыв, ройте, рывши, роющего, роющее, роющие, р...\n",
              "7   рыт   рыться  [рылось, роющийся, роетесь, роется, роешься, р..."
            ],
            "text/html": [
              "\n",
              "  <div id=\"df-112079a1-c699-470d-8baf-7e0e05ae0b11\">\n",
              "    <div class=\"colab-df-container\">\n",
              "      <div>\n",
              "<style scoped>\n",
              "    .dataframe tbody tr th:only-of-type {\n",
              "        vertical-align: middle;\n",
              "    }\n",
              "\n",
              "    .dataframe tbody tr th {\n",
              "        vertical-align: top;\n",
              "    }\n",
              "\n",
              "    .dataframe thead th {\n",
              "        text-align: right;\n",
              "    }\n",
              "</style>\n",
              "<table border=\"1\" class=\"dataframe\">\n",
              "  <thead>\n",
              "    <tr style=\"text-align: right;\">\n",
              "      <th></th>\n",
              "      <th>stems</th>\n",
              "      <th>inf_mask</th>\n",
              "      <th>tokens</th>\n",
              "    </tr>\n",
              "  </thead>\n",
              "  <tbody>\n",
              "    <tr>\n",
              "      <th>0</th>\n",
              "      <td>ро</td>\n",
              "      <td>роить</td>\n",
              "      <td>[роивший, роите, роил, роила, роивши, роят, ро...</td>\n",
              "    </tr>\n",
              "    <tr>\n",
              "      <th>1</th>\n",
              "      <td>ро</td>\n",
              "      <td>роиться</td>\n",
              "      <td>[роись, роилась, роившись, роившийся, роились,...</td>\n",
              "    </tr>\n",
              "    <tr>\n",
              "      <th>2</th>\n",
              "      <td>ро</td>\n",
              "      <td>рой</td>\n",
              "      <td>[роев, роем, рои, рою, роя, роям, роями, роях,...</td>\n",
              "    </tr>\n",
              "    <tr>\n",
              "      <th>3</th>\n",
              "      <td>ройн</td>\n",
              "      <td>ройный</td>\n",
              "      <td>[роен]</td>\n",
              "    </tr>\n",
              "    <tr>\n",
              "      <th>4</th>\n",
              "      <td>рыл</td>\n",
              "      <td>рыло</td>\n",
              "      <td>[рылами, рылах, рыле, рылом, рылу, рыло, рыл, ...</td>\n",
              "    </tr>\n",
              "    <tr>\n",
              "      <th>5</th>\n",
              "      <td>рыт</td>\n",
              "      <td>рытый</td>\n",
              "      <td>[рыт, рытым, рытая, рыто, рытого, рытое, рытом...</td>\n",
              "    </tr>\n",
              "    <tr>\n",
              "      <th>6</th>\n",
              "      <td>рыт</td>\n",
              "      <td>рыть</td>\n",
              "      <td>[рыв, ройте, рывши, роющего, роющее, роющие, р...</td>\n",
              "    </tr>\n",
              "    <tr>\n",
              "      <th>7</th>\n",
              "      <td>рыт</td>\n",
              "      <td>рыться</td>\n",
              "      <td>[рылось, роющийся, роетесь, роется, роешься, р...</td>\n",
              "    </tr>\n",
              "  </tbody>\n",
              "</table>\n",
              "</div>\n",
              "      <button class=\"colab-df-convert\" onclick=\"convertToInteractive('df-112079a1-c699-470d-8baf-7e0e05ae0b11')\"\n",
              "              title=\"Convert this dataframe to an interactive table.\"\n",
              "              style=\"display:none;\">\n",
              "        \n",
              "  <svg xmlns=\"http://www.w3.org/2000/svg\" height=\"24px\"viewBox=\"0 0 24 24\"\n",
              "       width=\"24px\">\n",
              "    <path d=\"M0 0h24v24H0V0z\" fill=\"none\"/>\n",
              "    <path d=\"M18.56 5.44l.94 2.06.94-2.06 2.06-.94-2.06-.94-.94-2.06-.94 2.06-2.06.94zm-11 1L8.5 8.5l.94-2.06 2.06-.94-2.06-.94L8.5 2.5l-.94 2.06-2.06.94zm10 10l.94 2.06.94-2.06 2.06-.94-2.06-.94-.94-2.06-.94 2.06-2.06.94z\"/><path d=\"M17.41 7.96l-1.37-1.37c-.4-.4-.92-.59-1.43-.59-.52 0-1.04.2-1.43.59L10.3 9.45l-7.72 7.72c-.78.78-.78 2.05 0 2.83L4 21.41c.39.39.9.59 1.41.59.51 0 1.02-.2 1.41-.59l7.78-7.78 2.81-2.81c.8-.78.8-2.07 0-2.86zM5.41 20L4 18.59l7.72-7.72 1.47 1.35L5.41 20z\"/>\n",
              "  </svg>\n",
              "      </button>\n",
              "      \n",
              "  <style>\n",
              "    .colab-df-container {\n",
              "      display:flex;\n",
              "      flex-wrap:wrap;\n",
              "      gap: 12px;\n",
              "    }\n",
              "\n",
              "    .colab-df-convert {\n",
              "      background-color: #E8F0FE;\n",
              "      border: none;\n",
              "      border-radius: 50%;\n",
              "      cursor: pointer;\n",
              "      display: none;\n",
              "      fill: #1967D2;\n",
              "      height: 32px;\n",
              "      padding: 0 0 0 0;\n",
              "      width: 32px;\n",
              "    }\n",
              "\n",
              "    .colab-df-convert:hover {\n",
              "      background-color: #E2EBFA;\n",
              "      box-shadow: 0px 1px 2px rgba(60, 64, 67, 0.3), 0px 1px 3px 1px rgba(60, 64, 67, 0.15);\n",
              "      fill: #174EA6;\n",
              "    }\n",
              "\n",
              "    [theme=dark] .colab-df-convert {\n",
              "      background-color: #3B4455;\n",
              "      fill: #D2E3FC;\n",
              "    }\n",
              "\n",
              "    [theme=dark] .colab-df-convert:hover {\n",
              "      background-color: #434B5C;\n",
              "      box-shadow: 0px 1px 3px 1px rgba(0, 0, 0, 0.15);\n",
              "      filter: drop-shadow(0px 1px 2px rgba(0, 0, 0, 0.3));\n",
              "      fill: #FFFFFF;\n",
              "    }\n",
              "  </style>\n",
              "\n",
              "      <script>\n",
              "        const buttonEl =\n",
              "          document.querySelector('#df-112079a1-c699-470d-8baf-7e0e05ae0b11 button.colab-df-convert');\n",
              "        buttonEl.style.display =\n",
              "          google.colab.kernel.accessAllowed ? 'block' : 'none';\n",
              "\n",
              "        async function convertToInteractive(key) {\n",
              "          const element = document.querySelector('#df-112079a1-c699-470d-8baf-7e0e05ae0b11');\n",
              "          const dataTable =\n",
              "            await google.colab.kernel.invokeFunction('convertToInteractive',\n",
              "                                                     [key], {});\n",
              "          if (!dataTable) return;\n",
              "\n",
              "          const docLinkHtml = 'Like what you see? Visit the ' +\n",
              "            '<a target=\"_blank\" href=https://colab.research.google.com/notebooks/data_table.ipynb>data table notebook</a>'\n",
              "            + ' to learn more about interactive tables.';\n",
              "          element.innerHTML = '';\n",
              "          dataTable['output_type'] = 'display_data';\n",
              "          await google.colab.output.renderOutput(dataTable, element);\n",
              "          const docLink = document.createElement('div');\n",
              "          docLink.innerHTML = docLinkHtml;\n",
              "          element.appendChild(docLink);\n",
              "        }\n",
              "      </script>\n",
              "    </div>\n",
              "  </div>\n",
              "  "
            ]
          },
          "metadata": {},
          "execution_count": 49
        }
      ]
    },
    {
      "cell_type": "code",
      "source": [
        "morph_groups1['tokens'] = [', '.join(map(str, l)) for l in morph_groups1['tokens']]"
      ],
      "metadata": {
        "id": "HqVyAM27dIFj"
      },
      "execution_count": null,
      "outputs": []
    },
    {
      "cell_type": "code",
      "source": [
        "print(morph_groups1.to_string())"
      ],
      "metadata": {
        "colab": {
          "base_uri": "https://localhost:8080/"
        },
        "id": "dBI3m8LGinpB",
        "outputId": "2462065b-8ff3-4ee6-f378-7dd3b281294d"
      },
      "execution_count": null,
      "outputs": [
        {
          "output_type": "stream",
          "name": "stdout",
          "text": [
            "  stems inf_mask                                                                                                                                                                                                                                             tokens\n",
            "0    ро    роить               роивший, роите, роил, роила, роивши, роят, роенные, роили, роило, роим, роимый, роящий, роенный, роенным, роит, роен, роить, роенными, роена, роенная, роенного, роенное, рои, рою, роя, роенной, роенных, роено, роишь, роив, роены\n",
            "1    ро  роиться                                                                                       роись, роилась, роившись, роившийся, роились, роилось, роился, роюсь, роясь, роимся, роитесь, роится, роиться, роишься, роятся, роящиеся, роящийся, роящихся\n",
            "2    ро      рой                                                                                                                                                                                             роев, роем, рои, рою, роя, роям, роями, роях, рое, рой\n",
            "3  ройн   ройный                                                                                                                                                                                                                                               роен\n",
            "4   рыл     рыло                                                                                                                                                                                           рылами, рылах, рыле, рылом, рылу, рыло, рыл, рыла, рылам\n",
            "5   рыт    рытый                                                                                                                                                                  рыт, рытым, рытая, рыто, рытого, рытое, рытому, рыты, рытые, рытый, рытых, рытыми\n",
            "6   рыт     рыть  рыв, ройте, рывши, роющего, роющее, роющие, роющий, роющим, роющих, рыт, рытым, рытая, рыто, рытого, рытое, рытому, рыты, рытые, рытый, рыло, рывший, рыл, роем, рою, роя, роют, рыть, роемый, роет, рытых, рыла, рыли, рытыми, роете, роешь, рой\n",
            "7   рыт   рыться                                                                                               рылось, роющийся, роетесь, роется, роешься, рылся, рыться, ройся, ройтесь, роюсь, роются, роющихся, роясь, рывшийся, рывшись, рылась, рылись, роемся\n"
          ]
        }
      ]
    },
    {
      "cell_type": "markdown",
      "source": [
        "Таким образом, получаются следующие семантические группы:\n",
        "*   с основой \"ро\", связанные с роем и роением\n",
        "*   с основой \"рыт\", связанные с рытьем\n",
        "*   с основой \"рыл\" -- склонение слова \"рыло\"\n",
        "*   с основой \"ройн\", похожая на выброс вследствие попытки лемматизатора распознать неизвестное слово \"роен\"."
      ],
      "metadata": {
        "id": "pjBlIIPByKub"
      }
    }
  ]
}